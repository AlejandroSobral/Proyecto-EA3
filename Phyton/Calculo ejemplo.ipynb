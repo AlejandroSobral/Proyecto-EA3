{
 "cells": [
  {
   "cell_type": "markdown",
   "metadata": {},
   "source": [
    "#First void example\n",
    "\n",
    "![title](source/Rn.PNG)\n",
    "\n",
    "![title](source/Fo.PNG)\n",
    "\n"
   ]
  },
  {
   "cell_type": "code",
   "execution_count": 15,
   "metadata": {},
   "outputs": [
    {
     "ename": "NameError",
     "evalue": "name 'latex' is not defined",
     "output_type": "error",
     "traceback": [
      "\u001b[1;31m---------------------------------------------------------------------------\u001b[0m",
      "\u001b[1;31mNameError\u001b[0m                                 Traceback (most recent call last)",
      "\u001b[1;32m<ipython-input-15-854d73d057d3>\u001b[0m in \u001b[0;36m<module>\u001b[1;34m\u001b[0m\n\u001b[0;32m      8\u001b[0m \u001b[0mI\u001b[0m \u001b[1;33m=\u001b[0m \u001b[0msp\u001b[0m\u001b[1;33m.\u001b[0m\u001b[0mIntegral\u001b[0m\u001b[1;33m(\u001b[0m\u001b[0mx\u001b[0m\u001b[1;33m**\u001b[0m\u001b[1;36m2\u001b[0m\u001b[1;33m,\u001b[0m\u001b[1;33m(\u001b[0m\u001b[0mx\u001b[0m\u001b[1;33m,\u001b[0m\u001b[1;36m0\u001b[0m\u001b[1;33m,\u001b[0m\u001b[1;36m1\u001b[0m\u001b[1;33m)\u001b[0m\u001b[1;33m)\u001b[0m\u001b[1;33m\u001b[0m\u001b[1;33m\u001b[0m\u001b[0m\n\u001b[0;32m      9\u001b[0m \u001b[0mv\u001b[0m \u001b[1;33m=\u001b[0m \u001b[0mI\u001b[0m\u001b[1;33m.\u001b[0m\u001b[0mdoit\u001b[0m\u001b[1;33m(\u001b[0m\u001b[1;33m)\u001b[0m\u001b[1;33m\u001b[0m\u001b[1;33m\u001b[0m\u001b[0m\n\u001b[1;32m---> 10\u001b[1;33m \u001b[0mprint\u001b[0m\u001b[1;33m(\u001b[0m\u001b[0mlatex\u001b[0m\u001b[1;33m(\u001b[0m\u001b[0mI\u001b[0m\u001b[1;33m)\u001b[0m\u001b[1;33m)\u001b[0m\u001b[1;33m\u001b[0m\u001b[1;33m\u001b[0m\u001b[0m\n\u001b[0m\u001b[0;32m     11\u001b[0m \u001b[0mprint\u001b[0m\u001b[1;33m(\u001b[0m\u001b[0mlatex\u001b[0m\u001b[1;33m(\u001b[0m\u001b[0mIntegral\u001b[0m\u001b[1;33m(\u001b[0m\u001b[0msqrt\u001b[0m\u001b[1;33m(\u001b[0m\u001b[1;36m1\u001b[0m\u001b[1;33m/\u001b[0m\u001b[0mx\u001b[0m\u001b[1;33m)\u001b[0m\u001b[1;33m,\u001b[0m \u001b[0mx\u001b[0m\u001b[1;33m)\u001b[0m\u001b[1;33m)\u001b[0m\u001b[1;33m)\u001b[0m\u001b[1;33m\u001b[0m\u001b[1;33m\u001b[0m\u001b[0m\n\u001b[0;32m     12\u001b[0m \u001b[1;33m\u001b[0m\u001b[0m\n",
      "\u001b[1;31mNameError\u001b[0m: name 'latex' is not defined"
     ]
    }
   ],
   "source": [
    "\n",
    "import myplot as myp\n",
    "import numpy as np\n",
    "import matplotlib.pyplot as plt\n",
    "from IPython.display import Image\n",
    "import sympy as sp \n",
    " \n",
    "x = sp.symbols('x') \n",
    "I = sp.Integral(x**2,(x,0,1)) \n",
    "v = I.doit() \n",
    "print(latex(I))\n",
    "print(latex(Integral(sqrt(1/x), x)))\n",
    "\n",
    "\n",
    "# Datos \n",
    "Rg = 1000\n",
    "Rl = 50\n",
    "fo = 2e6\n",
    "wo = 2*np.pi*fo\n",
    "\n",
    "Qm  = ((Rg/Rl)-1)**0.5      # Caclulo del Qm\n",
    "\n",
    "print(latex(Qm))\n",
    "XL  = Qm * Rl               # Caclulo de XL\n",
    "L   = XL/wo                 # Calculo de L\n",
    "XLp = XL *(1+1/Qm**2)       # Conversion de L paralelo\n",
    "C   = 1/(2*np.pi*fo*XLp)    # Conversion de C de sintonia\n",
    "\n",
    "print('.param rg =  {:1.4e} '.format(Rg) )\n",
    "print('.param C  =  {:1.4e} '.format(C) )\n",
    "print('.param L  =  {:1.4e} '.format(L) )\n",
    "print('.param Rl =  {:1.4e} '.format(Rl) )\n",
    "\n",
    "# Ahora calculando en la hoja de calculo \n",
    "f =  np.arange(1.9e6,2.1e6,10e3)                   # Defino el array de frecuencia\n",
    "Zi = 1/(1j*2*np.pi*f*C + 1/(Rl+ 1j*2*np.pi*f*L))   \n",
    "\n",
    "myp.PlotCpx(f,Zi , labelx = 'Frecuencia/Hz', labely = '$Z_{in}$')\n",
    "\n",
    "#plt.savefig('figures/converSerPAr.png')\n",
    "\n",
    "plt.show()"
   ]
  }
 ],
 "metadata": {
  "kernelspec": {
   "display_name": "Python 3",
   "language": "python",
   "name": "python3"
  },
  "language_info": {
   "codemirror_mode": {
    "name": "ipython",
    "version": 3
   },
   "file_extension": ".py",
   "mimetype": "text/x-python",
   "name": "python",
   "nbconvert_exporter": "python",
   "pygments_lexer": "ipython3",
   "version": "3.8.3"
  }
 },
 "nbformat": 4,
 "nbformat_minor": 4
}
